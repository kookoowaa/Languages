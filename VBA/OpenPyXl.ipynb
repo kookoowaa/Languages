{
 "cells": [
  {
   "cell_type": "code",
   "execution_count": 13,
   "metadata": {},
   "outputs": [],
   "source": [
    "from openpyxl import Workbook\n",
    "from openpyxl.chart import BarChart, Reference\n",
    "\n",
    "from random import random"
   ]
  },
  {
   "cell_type": "code",
   "execution_count": 3,
   "metadata": {},
   "outputs": [],
   "source": [
    "def get_random():\n",
    "    while True:\n",
    "        ret = int(random()*100);\n",
    "        if ret < 40:\n",
    "            return ret - 20;"
   ]
  },
  {
   "cell_type": "code",
   "execution_count": 6,
   "metadata": {},
   "outputs": [],
   "source": [
    "wb = Workbook()\n",
    "ws = wb.active"
   ]
  },
  {
   "cell_type": "code",
   "execution_count": 17,
   "metadata": {},
   "outputs": [],
   "source": [
    "for row in range(2,14):\n",
    "    \n",
    "    ws[f'C{row}'].value = get_random();\n",
    "    ws[f'D{row}'].value = get_random();    \n",
    "\n",
    "ws['C1'] = 'R1'\n",
    "ws['D1'] = 'R2'"
   ]
  },
  {
   "cell_type": "code",
   "execution_count": 15,
   "metadata": {},
   "outputs": [],
   "source": [
    "chart = BarChart()\n",
    "chart.type = 'col'\n",
    "chart.style = 10\n",
    "chart.title = 'Random draw'\n",
    "chart.x_axis.title = 'random_1'\n",
    "chart.y_axis.title = 'random_2'"
   ]
  },
  {
   "cell_type": "code",
   "execution_count": 18,
   "metadata": {},
   "outputs": [],
   "source": [
    "data = Reference(ws, min_col = 3, max_col=4, min_row =1, max_row=14)\n",
    "chart.add_data(data, titles_from_data=True)\n",
    "ws.add_chart(chart, \"E1\")"
   ]
  },
  {
   "cell_type": "code",
   "execution_count": 19,
   "metadata": {},
   "outputs": [],
   "source": [
    "wb.save('chart_sample.xlsx')"
   ]
  }
 ],
 "metadata": {
  "kernelspec": {
   "display_name": "Python 3",
   "language": "python",
   "name": "python3"
  },
  "language_info": {
   "codemirror_mode": {
    "name": "ipython",
    "version": 3
   },
   "file_extension": ".py",
   "mimetype": "text/x-python",
   "name": "python",
   "nbconvert_exporter": "python",
   "pygments_lexer": "ipython3",
   "version": "3.8.2"
  }
 },
 "nbformat": 4,
 "nbformat_minor": 4
}
